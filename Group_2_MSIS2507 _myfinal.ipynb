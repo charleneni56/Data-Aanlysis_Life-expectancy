{
 "cells": [
  {
   "cell_type": "markdown",
   "metadata": {},
   "source": [
    "<h1 style=\"text-align:center;\">LIFE EXPECTANCY ANALYSIS</h1>"
   ]
  },
  {
   "cell_type": "markdown",
   "metadata": {},
   "source": [
    "<h4 style=\"text-align:center;\">Group 2 - Yihsuan Tseng, Mihir Kungulwar, Ziqi Liu, Udisha Madnani, ChiaLing Ni</h4>\n",
    "\n"
   ]
  },
  {
   "cell_type": "markdown",
   "metadata": {},
   "source": [
    "* Life Expectancy Data Source: https://www.kaggle.com/kumarajarshi/life-expectancy-who"
   ]
  },
  {
   "cell_type": "code",
   "execution_count": 1,
   "metadata": {},
   "outputs": [],
   "source": [
    "import pandas as pd                      # for data analysis\n",
    "import numpy as np                       # for mathematical operations on array\n",
    "import requests                          # for making http requests\n",
    "from bs4 import BeautifulSoup            # for web scraping\n",
    "import warnings                          # suppress all future warning\n",
    "warnings.filterwarnings('ignore')\n",
    "from sklearn import linear_model         # for linear regression\n",
    "import seaborn as sns                    # for data visualization\n",
    "from sklearn.model_selection import train_test_split                      # for splitting train and test data  \n",
    "import sklearn as sk\n",
    "import sklearn.tree as tree\n",
    "from IPython.display import Image  \n",
    "import pydotplus\n",
    "import sys\n",
    "from sklearn.preprocessing import MinMaxScaler                            # for normalizing data\n",
    "from sklearn.model_selection import KFold                    # for cross validation"
   ]
  },
  {
   "cell_type": "code",
   "execution_count": 2,
   "metadata": {},
   "outputs": [],
   "source": [
    "pd.set_option(\"display.max_columns\", None)"
   ]
  },
  {
   "cell_type": "code",
   "execution_count": 3,
   "metadata": {},
   "outputs": [],
   "source": [
    "life_expectancy = pd.read_csv('Life Expectancy Data.csv')"
   ]
  },
  {
   "cell_type": "code",
   "execution_count": 4,
   "metadata": {
    "scrolled": true
   },
   "outputs": [
    {
     "data": {
      "text/html": [
       "<div>\n",
       "<style scoped>\n",
       "    .dataframe tbody tr th:only-of-type {\n",
       "        vertical-align: middle;\n",
       "    }\n",
       "\n",
       "    .dataframe tbody tr th {\n",
       "        vertical-align: top;\n",
       "    }\n",
       "\n",
       "    .dataframe thead th {\n",
       "        text-align: right;\n",
       "    }\n",
       "</style>\n",
       "<table border=\"1\" class=\"dataframe\">\n",
       "  <thead>\n",
       "    <tr style=\"text-align: right;\">\n",
       "      <th></th>\n",
       "      <th>Country</th>\n",
       "      <th>Year</th>\n",
       "      <th>Status</th>\n",
       "      <th>Life expectancy</th>\n",
       "      <th>Adult Mortality</th>\n",
       "      <th>infant deaths</th>\n",
       "      <th>Alcohol</th>\n",
       "      <th>percentage expenditure</th>\n",
       "      <th>Hepatitis B</th>\n",
       "      <th>Measles</th>\n",
       "      <th>BMI</th>\n",
       "      <th>under-five deaths</th>\n",
       "      <th>Polio</th>\n",
       "      <th>Total expenditure</th>\n",
       "      <th>Diphtheria</th>\n",
       "      <th>HIV/AIDS</th>\n",
       "      <th>GDP</th>\n",
       "      <th>Population</th>\n",
       "      <th>thinness  1-19 years</th>\n",
       "      <th>thinness 5-9 years</th>\n",
       "      <th>Income composition of resources</th>\n",
       "      <th>Schooling</th>\n",
       "    </tr>\n",
       "  </thead>\n",
       "  <tbody>\n",
       "    <tr>\n",
       "      <th>0</th>\n",
       "      <td>Afghanistan</td>\n",
       "      <td>2015</td>\n",
       "      <td>Developing</td>\n",
       "      <td>65.0</td>\n",
       "      <td>263.0</td>\n",
       "      <td>62</td>\n",
       "      <td>0.01</td>\n",
       "      <td>71.279624</td>\n",
       "      <td>65.0</td>\n",
       "      <td>1154</td>\n",
       "      <td>19.1</td>\n",
       "      <td>83</td>\n",
       "      <td>6.0</td>\n",
       "      <td>8.16</td>\n",
       "      <td>65.0</td>\n",
       "      <td>0.1</td>\n",
       "      <td>584.25921</td>\n",
       "      <td>33736494.0</td>\n",
       "      <td>17.2</td>\n",
       "      <td>17.3</td>\n",
       "      <td>0.479</td>\n",
       "      <td>10.1</td>\n",
       "    </tr>\n",
       "  </tbody>\n",
       "</table>\n",
       "</div>"
      ],
      "text/plain": [
       "       Country  Year      Status  Life expectancy   Adult Mortality  \\\n",
       "0  Afghanistan  2015  Developing              65.0            263.0   \n",
       "\n",
       "   infant deaths  Alcohol  percentage expenditure  Hepatitis B  Measles   \\\n",
       "0             62     0.01               71.279624         65.0      1154   \n",
       "\n",
       "    BMI   under-five deaths   Polio  Total expenditure  Diphtheria   \\\n",
       "0   19.1                  83    6.0               8.16         65.0   \n",
       "\n",
       "    HIV/AIDS        GDP  Population   thinness  1-19 years  \\\n",
       "0        0.1  584.25921  33736494.0                   17.2   \n",
       "\n",
       "    thinness 5-9 years  Income composition of resources  Schooling  \n",
       "0                 17.3                            0.479       10.1  "
      ]
     },
     "execution_count": 4,
     "metadata": {},
     "output_type": "execute_result"
    }
   ],
   "source": [
    "life_expectancy.head(1)"
   ]
  },
  {
   "cell_type": "markdown",
   "metadata": {},
   "source": [
    "<h1 style=\"text-align:center;\">DATA DESCRIPTION</h1>\n",
    "\n",
    "* 23 columns, 2835 rows\n",
    "* countries: 177 different countries\n",
    "* Year: from 2000 to 2015\n",
    "* life_expectancy: Life expectancy in age\n",
    "* Alcohol: Recorded per capita (15+) consumption (in litres of pure alcohol)\n",
    "* hepB: Hepatitis B (hepB) immunization coverage among 1-year-olds (%)\n",
    "* Measles: Number of reported cases per 1000 population\n",
    "* deaths_U5: Number of under-five deaths per 1000 population \n",
    "* Polio: Polio (Pol3) immunization coverage among 1-year-olds (%)\n",
    "* total_expenditure: General government expenditure on health as a percentage of total government expenditure (%)\n",
    "* diphtheria: Diphtheria tetanus toxoid and pertussis (DTP3) immunization coverage among 1-year-olds (%)\n",
    "* hiv_aids: Deaths per 1 000 live births HIV/AIDS (0-4 years)\n",
    "* GDP: Gross Domestic Product per capita (in USD)\n",
    "* Population: Updeated population of the country\n",
    "* income_composition: Human Development Index in terms of income composition of resources (index ranging from 0 to 1)\n",
    "* Schooling: Number of years of Schooling(years)\n",
    "* Status: Developed countries as 1, developing countries as 0\n",
    "* latitude: latitude of a country\n",
    "* longitude: longitude of a country\n",
    "* Crime_Index: Estimation of overall level of crime in a given country. Consider crime levels lower than 20 as very low, 20-40 as being low, 40-60 as being moderate, 60-80 as being high, and crime levels higher than 80 as being very high\n",
    "* Cigarettes_per_day: Annual Cigarette Consumption per person aged 15 or older\n",
    "* Depression_Population: Depression population from a coutry between 2000-2015\n",
    "* Cannabis_Recreational: Cannabis for recreational use in a country, legal as 1, otherwise 0\n",
    "* Cannabis_Medical: Cannabis for medical use in a country, legal as 1, otherwise 0"
   ]
  },
  {
   "cell_type": "markdown",
   "metadata": {},
   "source": [
    "<h1 style=\"text-align:center;\">Cleaning Life Expectancy dataset</h1>"
   ]
  },
  {
   "cell_type": "code",
   "execution_count": 5,
   "metadata": {},
   "outputs": [],
   "source": [
    "# get dummy on column \"Status\"\n",
    "life_expectancy['Status_1'] = np.NAN\n",
    "life_expectancy['Status_1'] = (life_expectancy['Status'] == 'Developed').astype(int)\n",
    "\n",
    "# drop existing Status column and rename all the columns\n",
    "life_expectancy.drop('Status',axis = 1,inplace=True)\n",
    "life_expectancy.rename(columns= {'Country':'country','Diphtheria ':'diphtheria',' BMI ':'bmi',\\\n",
    "                                 'Hepatitis B':'hepB',' HIV/AIDS':'hiv_aids','Total expenditure':'total_expenditure',\\\n",
    "                                 'under-five deaths ':'deaths_U5','infant deaths':'infant_deaths','Adult Mortality':'adult_mortality',\\\n",
    "                                 'Status_1' : 'Status', 'Income composition of resources':'income_composition',\\\n",
    "                                 'Life expectancy ' : 'life_expectancy', 'percentage expenditure' : 'expenditure_%',\\\n",
    "                                 ' thinness  1-19 years' : 'thinness_1_19',' thinness 5-9 years' : 'thinness_5_9'},inplace=True) "
   ]
  },
  {
   "cell_type": "code",
   "execution_count": 6,
   "metadata": {},
   "outputs": [
    {
     "data": {
      "text/html": [
       "<div>\n",
       "<style scoped>\n",
       "    .dataframe tbody tr th:only-of-type {\n",
       "        vertical-align: middle;\n",
       "    }\n",
       "\n",
       "    .dataframe tbody tr th {\n",
       "        vertical-align: top;\n",
       "    }\n",
       "\n",
       "    .dataframe thead th {\n",
       "        text-align: right;\n",
       "    }\n",
       "</style>\n",
       "<table border=\"1\" class=\"dataframe\">\n",
       "  <thead>\n",
       "    <tr style=\"text-align: right;\">\n",
       "      <th></th>\n",
       "      <th>country</th>\n",
       "      <th>Year</th>\n",
       "      <th>life_expectancy</th>\n",
       "      <th>adult_mortality</th>\n",
       "      <th>infant_deaths</th>\n",
       "      <th>Alcohol</th>\n",
       "      <th>expenditure_%</th>\n",
       "      <th>hepB</th>\n",
       "      <th>Measles</th>\n",
       "      <th>bmi</th>\n",
       "      <th>deaths_U5</th>\n",
       "      <th>Polio</th>\n",
       "      <th>total_expenditure</th>\n",
       "      <th>diphtheria</th>\n",
       "      <th>hiv_aids</th>\n",
       "      <th>GDP</th>\n",
       "      <th>Population</th>\n",
       "      <th>thinness_1_19</th>\n",
       "      <th>thinness_5_9</th>\n",
       "      <th>income_composition</th>\n",
       "      <th>Schooling</th>\n",
       "      <th>Status</th>\n",
       "    </tr>\n",
       "  </thead>\n",
       "  <tbody>\n",
       "    <tr>\n",
       "      <th>0</th>\n",
       "      <td>Afghanistan</td>\n",
       "      <td>2015</td>\n",
       "      <td>65.0</td>\n",
       "      <td>263.0</td>\n",
       "      <td>62</td>\n",
       "      <td>0.01</td>\n",
       "      <td>71.279624</td>\n",
       "      <td>65.0</td>\n",
       "      <td>1154</td>\n",
       "      <td>19.1</td>\n",
       "      <td>83</td>\n",
       "      <td>6.0</td>\n",
       "      <td>8.16</td>\n",
       "      <td>65.0</td>\n",
       "      <td>0.1</td>\n",
       "      <td>584.25921</td>\n",
       "      <td>33736494.0</td>\n",
       "      <td>17.2</td>\n",
       "      <td>17.3</td>\n",
       "      <td>0.479</td>\n",
       "      <td>10.1</td>\n",
       "      <td>0</td>\n",
       "    </tr>\n",
       "  </tbody>\n",
       "</table>\n",
       "</div>"
      ],
      "text/plain": [
       "       country  Year  life_expectancy  adult_mortality  infant_deaths  \\\n",
       "0  Afghanistan  2015             65.0            263.0             62   \n",
       "\n",
       "   Alcohol  expenditure_%  hepB  Measles    bmi  deaths_U5  Polio  \\\n",
       "0     0.01      71.279624  65.0      1154  19.1         83    6.0   \n",
       "\n",
       "   total_expenditure  diphtheria  hiv_aids        GDP  Population  \\\n",
       "0               8.16        65.0       0.1  584.25921  33736494.0   \n",
       "\n",
       "   thinness_1_19  thinness_5_9  income_composition  Schooling  Status  \n",
       "0           17.2          17.3               0.479       10.1       0  "
      ]
     },
     "execution_count": 6,
     "metadata": {},
     "output_type": "execute_result"
    }
   ],
   "source": [
    "life_expectancy.head(1)"
   ]
  },
  {
   "cell_type": "code",
   "execution_count": 7,
   "metadata": {},
   "outputs": [
    {
     "data": {
      "text/plain": [
       "Index(['country', 'Year', 'life_expectancy', 'adult_mortality',\n",
       "       'infant_deaths', 'Alcohol', 'expenditure_%', 'hepB', 'Measles ', 'bmi',\n",
       "       'deaths_U5', 'Polio', 'total_expenditure', 'diphtheria', 'hiv_aids',\n",
       "       'GDP', 'Population', 'thinness_1_19', 'thinness_5_9',\n",
       "       'income_composition', 'Schooling', 'Status'],\n",
       "      dtype='object')"
      ]
     },
     "execution_count": 7,
     "metadata": {},
     "output_type": "execute_result"
    }
   ],
   "source": [
    "life_expectancy.columns"
   ]
  },
  {
   "cell_type": "code",
   "execution_count": 8,
   "metadata": {},
   "outputs": [
    {
     "data": {
      "text/plain": [
       "country                 0\n",
       "Year                    0\n",
       "life_expectancy        10\n",
       "adult_mortality        10\n",
       "infant_deaths           0\n",
       "Alcohol               194\n",
       "expenditure_%           0\n",
       "hepB                  553\n",
       "Measles                 0\n",
       "bmi                    34\n",
       "deaths_U5               0\n",
       "Polio                  19\n",
       "total_expenditure     226\n",
       "diphtheria             19\n",
       "hiv_aids                0\n",
       "GDP                   448\n",
       "Population            652\n",
       "thinness_1_19          34\n",
       "thinness_5_9           34\n",
       "income_composition    167\n",
       "Schooling             163\n",
       "Status                  0\n",
       "dtype: int64"
      ]
     },
     "execution_count": 8,
     "metadata": {},
     "output_type": "execute_result"
    }
   ],
   "source": [
    "life_expectancy.isna().sum()"
   ]
  },
  {
   "cell_type": "code",
   "execution_count": 9,
   "metadata": {},
   "outputs": [],
   "source": [
    "#fill Nan values with each column's average\n",
    "\n",
    "life_expectancy.life_expectancy.fillna(life_expectancy.life_expectancy.mean(),inplace=True)\n",
    "life_expectancy.adult_mortality.fillna(life_expectancy.adult_mortality.mean(),inplace=True)\n",
    "life_expectancy.Alcohol.fillna(life_expectancy.Alcohol.mean(),inplace=True)\n",
    "life_expectancy.hepB.fillna(life_expectancy.hepB.mean(),inplace= True)\n",
    "life_expectancy.bmi.fillna(life_expectancy.bmi.mean(),inplace=True)\n",
    "life_expectancy.Polio.fillna(life_expectancy.Polio.mean(),inplace=True)\n",
    "life_expectancy.total_expenditure.fillna(life_expectancy.total_expenditure.mean(),inplace=True)\n",
    "life_expectancy.diphtheria.fillna(life_expectancy.bmi.mean(),inplace=True)\n",
    "life_expectancy.GDP.fillna(life_expectancy.GDP.mean(),inplace=True)\n",
    "life_expectancy.Population.fillna(life_expectancy.Population.mean(),inplace=True)\n",
    "life_expectancy.thinness_1_19.fillna(life_expectancy.thinness_1_19.mean(),inplace=True)\n",
    "life_expectancy.thinness_5_9.fillna(life_expectancy.thinness_5_9.mean(),inplace=True)\n",
    "life_expectancy.income_composition.fillna(life_expectancy.income_composition.mean(),inplace=True)\n",
    "life_expectancy.Schooling.fillna(life_expectancy.Schooling.mean(),inplace=True)"
   ]
  },
  {
   "cell_type": "code",
   "execution_count": 10,
   "metadata": {},
   "outputs": [
    {
     "data": {
      "text/plain": [
       "country               0\n",
       "Year                  0\n",
       "life_expectancy       0\n",
       "adult_mortality       0\n",
       "infant_deaths         0\n",
       "Alcohol               0\n",
       "expenditure_%         0\n",
       "hepB                  0\n",
       "Measles               0\n",
       "bmi                   0\n",
       "deaths_U5             0\n",
       "Polio                 0\n",
       "total_expenditure     0\n",
       "diphtheria            0\n",
       "hiv_aids              0\n",
       "GDP                   0\n",
       "Population            0\n",
       "thinness_1_19         0\n",
       "thinness_5_9          0\n",
       "income_composition    0\n",
       "Schooling             0\n",
       "Status                0\n",
       "dtype: int64"
      ]
     },
     "execution_count": 10,
     "metadata": {},
     "output_type": "execute_result"
    }
   ],
   "source": [
    "life_expectancy.isna().sum()"
   ]
  },
  {
   "cell_type": "markdown",
   "metadata": {},
   "source": [
    "<h1 style=\"text-align:center;\">CLEANING UP AND MERGING CRIME INDEX DATASET</h1>"
   ]
  },
  {
   "cell_type": "code",
   "execution_count": 11,
   "metadata": {},
   "outputs": [],
   "source": [
    "# add and merge longitude and latitud data\n",
    "coordinates = pd.read_csv('world_country_and_usa_states_latitude_and_longitude_values.csv')\n",
    "life_expectancy = life_expectancy.merge(coordinates.loc[:,'country_code' : 'country'], how='left', on='country')"
   ]
  },
  {
   "cell_type": "code",
   "execution_count": 12,
   "metadata": {},
   "outputs": [],
   "source": [
    "#web scraping section\n",
    "#get crime index data from website and save it as a csv file\n",
    "\n",
    "URL = \"https://www.numbeo.com/crime/rankings_by_country.jsp\"\n",
    "page = requests.get(URL)\n",
    "\n",
    "soup = BeautifulSoup(page.text, \"html.parser\")\n",
    "\n",
    "table = soup.find_all('table')[1]#.find_all('td')#.find_all('a')[0].string\n",
    "\n",
    "final_data = []\n",
    "for a in table.find_all('tbody'):\n",
    "    rows = a.find_all('td')\n",
    "    for row in rows:\n",
    "        final_data.append(row.text.strip().strip('*'))\n",
    "        \n",
    "final_data = [ele for ele in final_data if ele.strip()]\n",
    "\n",
    "Countries = final_data[::3]\n",
    "crime_index = final_data[1::3]\n",
    "\n",
    "\n",
    "crime_index = list(map(float, crime_index))\n",
    "data_tuples = list(zip(Countries,crime_index))\n",
    "\n",
    "pd.DataFrame(data_tuples, columns=['country','Crime_Index']).set_index('country').to_csv('crime_safety_index.csv')"
   ]
  },
  {
   "cell_type": "code",
   "execution_count": 13,
   "metadata": {},
   "outputs": [],
   "source": [
    "crime_safety = pd.read_csv('crime_safety_index.csv')"
   ]
  },
  {
   "cell_type": "code",
   "execution_count": 14,
   "metadata": {},
   "outputs": [],
   "source": [
    "#clean up crime data\n",
    "\n",
    "crime_safety.country.replace('Bolivia','Bolivia (Plurinational State of)',inplace=True)\n",
    "crime_safety.country.replace('South Korea','Republic of Korea',inplace=True)\n",
    "crime_safety.country.replace('Moldova','Republic of Moldova',inplace=True)\n",
    "crime_safety.country.replace('Russia','Russian Federation',inplace=True)\n",
    "crime_safety.country.replace('Syria','Syrian Arab Republic',inplace=True)\n",
    "crime_safety.country.replace('North Macedonia','The former Yugoslav republic of Macedonia',inplace=True)\n",
    "crime_safety.country.replace('United Kingdom','United Kingdom of Great Britain and Northern Ireland',inplace=True)\n",
    "crime_safety.country.replace('Tanzania','United Republic of Tanzania',inplace=True)\n",
    "crime_safety.country.replace('United States','United States of America',inplace=True)\n",
    "crime_safety.country.replace('Venezuela','Venezuela (Bolivarian Republic of)',inplace=True)\n",
    "crime_safety.country.replace('Iran','Iran (Islamic Republic of)',inplace=True)\n",
    "life_expectancy.country.replace('Viet Nam','Vietnam',inplace = True)"
   ]
  },
  {
   "cell_type": "code",
   "execution_count": 15,
   "metadata": {},
   "outputs": [],
   "source": [
    "life_expectancy = life_expectancy.merge(crime_safety, on='country', how = 'left' )"
   ]
  },
  {
   "cell_type": "code",
   "execution_count": 16,
   "metadata": {
    "scrolled": true
   },
   "outputs": [],
   "source": [
    "life_expectancy.Crime_Index.fillna(life_expectancy.Crime_Index.mean(),inplace=True)"
   ]
  },
  {
   "cell_type": "code",
   "execution_count": 17,
   "metadata": {},
   "outputs": [
    {
     "data": {
      "text/plain": [
       "193"
      ]
     },
     "execution_count": 17,
     "metadata": {},
     "output_type": "execute_result"
    }
   ],
   "source": [
    "life_expectancy.country.nunique()"
   ]
  },
  {
   "cell_type": "code",
   "execution_count": 18,
   "metadata": {},
   "outputs": [
    {
     "data": {
      "text/plain": [
       "country                 0\n",
       "Year                    0\n",
       "life_expectancy         0\n",
       "adult_mortality         0\n",
       "infant_deaths           0\n",
       "Alcohol                 0\n",
       "expenditure_%           0\n",
       "hepB                    0\n",
       "Measles                 0\n",
       "bmi                     0\n",
       "deaths_U5               0\n",
       "Polio                   0\n",
       "total_expenditure       0\n",
       "diphtheria              0\n",
       "hiv_aids                0\n",
       "GDP                     0\n",
       "Population              0\n",
       "thinness_1_19           0\n",
       "thinness_5_9            0\n",
       "income_composition      0\n",
       "Schooling               0\n",
       "Status                  0\n",
       "country_code          384\n",
       "latitude              368\n",
       "longitude             368\n",
       "Crime_Index             0\n",
       "dtype: int64"
      ]
     },
     "execution_count": 18,
     "metadata": {},
     "output_type": "execute_result"
    }
   ],
   "source": [
    "life_expectancy.isna().sum()"
   ]
  },
  {
   "cell_type": "markdown",
   "metadata": {},
   "source": [
    "<h1 style=\"text-align:center;\">CLEANING UP AND MERGING CIGARETTES DATASET</h1>"
   ]
  },
  {
   "cell_type": "code",
   "execution_count": 19,
   "metadata": {},
   "outputs": [],
   "source": [
    "URL = \"https://en.wikipedia.org/wiki/Tobacco_consumption_by_country\"\n",
    "page = requests.get(URL)\n",
    "\n",
    "soup = BeautifulSoup(page.text, \"html.parser\")\n",
    "\n",
    "table = soup.find_all('table')[1]#.find_all('td')#.find_all('a')[0].string\n",
    "\n",
    "final_data = []\n",
    "for a in table.find_all('tbody'):\n",
    "    rows = a.find_all('td')\n",
    "    for row in rows:\n",
    "        final_data.append(row.text.strip().strip('*'))\n",
    "        \n",
    "countries = []\n",
    "cigarettes = []\n",
    "\n",
    "countries.append(final_data[::2])\n",
    "cigarettes.append(final_data[1::2])\n",
    "cigarettes = cigarettes[0]\n",
    "countries = countries[0]\n",
    "\n",
    "countries_ = []\n",
    "cigarettes_ = []\n",
    "for a in countries:\n",
    "    countries_.append(a.encode(\"ascii\", \"ignore\").decode())\n",
    "for a in cigarettes:\n",
    "    cigarettes_.append(a.encode(\"ascii\", \"ignore\").decode())\n",
    "    \n",
    "countries = countries_.copy()\n",
    "cigarettes = cigarettes_.copy()\n",
    "\n",
    "del(countries_)\n",
    "del(cigarettes_)\n",
    "\n",
    "for a in range(len(cigarettes)):\n",
    "    cigarettes[a] = float(cigarettes[a].replace(',',''))\n",
    "\n",
    "data_tuples = list(zip(countries,cigarettes))\n",
    "\n",
    "pd.DataFrame(data_tuples,columns=['country','Cigarettes_per_day']).set_index('country').to_csv('cigarettes.csv')   "
   ]
  },
  {
   "cell_type": "code",
   "execution_count": 20,
   "metadata": {},
   "outputs": [],
   "source": [
    "cigar_df = pd.read_csv('cigarettes.csv')"
   ]
  },
  {
   "cell_type": "code",
   "execution_count": 21,
   "metadata": {},
   "outputs": [],
   "source": [
    "cigar_df.country.replace('Bolivia','Bolivia (Plurinational State of)',inplace=True)\n",
    "cigar_df.country.replace('South Korea','Republic of Korea',inplace=True)\n",
    "cigar_df.country.replace('Moldova','Republic of Moldova',inplace=True)\n",
    "cigar_df.country.replace('Russia','Russian Federation',inplace=True)\n",
    "cigar_df.country.replace('Syria','Syrian Arab Republic',inplace=True)\n",
    "cigar_df.country.replace('North Macedonia','The former Yugoslav republic of Macedonia',inplace=True)\n",
    "cigar_df.country.replace('United Kingdom','United Kingdom of Great Britain and Northern Ireland',inplace=True)\n",
    "cigar_df.country.replace('Tanzania','United Republic of Tanzania',inplace=True)\n",
    "cigar_df.country.replace('United States','United States of America',inplace=True)\n",
    "cigar_df.country.replace('Venezuela','Venezuela (Bolivarian Republic of)',inplace=True)"
   ]
  },
  {
   "cell_type": "code",
   "execution_count": 22,
   "metadata": {},
   "outputs": [],
   "source": [
    "life_expectancy = life_expectancy.merge(cigar_df,on='country',how='left')"
   ]
  },
  {
   "cell_type": "markdown",
   "metadata": {},
   "source": [
    "<h1 style=\"text-align:center;\">CLEANING AND MERGING DEPRESSION DATASET</h1>"
   ]
  },
  {
   "cell_type": "code",
   "execution_count": 23,
   "metadata": {},
   "outputs": [],
   "source": [
    "depression_df = pd.read_csv('number-with-depression-by-country.csv')"
   ]
  },
  {
   "cell_type": "code",
   "execution_count": 24,
   "metadata": {},
   "outputs": [],
   "source": [
    "# drop the rows whose timeline were not between 2000-2015\n",
    "depression_df.drop(depression_df.Year[(depression_df.Year < 2000) | (depression_df.Year > 2015)].index, inplace=True)"
   ]
  },
  {
   "cell_type": "code",
   "execution_count": 25,
   "metadata": {},
   "outputs": [],
   "source": [
    "# Rename the columns\n",
    "depression_df.rename(columns = {'Number':'Depression_Population'}, inplace = True)"
   ]
  },
  {
   "cell_type": "code",
   "execution_count": 26,
   "metadata": {},
   "outputs": [],
   "source": [
    "# Convert the population into integer(calculated by growth rate each year)\n",
    "depression_df['Depression_Population'] = depression_df['Depression_Population'].astype(int)"
   ]
  },
  {
   "cell_type": "code",
   "execution_count": 27,
   "metadata": {
    "scrolled": true
   },
   "outputs": [
    {
     "data": {
      "text/html": [
       "<div>\n",
       "<style scoped>\n",
       "    .dataframe tbody tr th:only-of-type {\n",
       "        vertical-align: middle;\n",
       "    }\n",
       "\n",
       "    .dataframe tbody tr th {\n",
       "        vertical-align: top;\n",
       "    }\n",
       "\n",
       "    .dataframe thead th {\n",
       "        text-align: right;\n",
       "    }\n",
       "</style>\n",
       "<table border=\"1\" class=\"dataframe\">\n",
       "  <thead>\n",
       "    <tr style=\"text-align: right;\">\n",
       "      <th></th>\n",
       "      <th>country</th>\n",
       "      <th>Year</th>\n",
       "      <th>Depression_Population</th>\n",
       "    </tr>\n",
       "  </thead>\n",
       "  <tbody>\n",
       "    <tr>\n",
       "      <th>10</th>\n",
       "      <td>Afghanistan</td>\n",
       "      <td>2000</td>\n",
       "      <td>501129</td>\n",
       "    </tr>\n",
       "    <tr>\n",
       "      <th>11</th>\n",
       "      <td>Afghanistan</td>\n",
       "      <td>2001</td>\n",
       "      <td>506530</td>\n",
       "    </tr>\n",
       "    <tr>\n",
       "      <th>12</th>\n",
       "      <td>Afghanistan</td>\n",
       "      <td>2002</td>\n",
       "      <td>537767</td>\n",
       "    </tr>\n",
       "    <tr>\n",
       "      <th>13</th>\n",
       "      <td>Afghanistan</td>\n",
       "      <td>2003</td>\n",
       "      <td>573188</td>\n",
       "    </tr>\n",
       "    <tr>\n",
       "      <th>14</th>\n",
       "      <td>Afghanistan</td>\n",
       "      <td>2004</td>\n",
       "      <td>590949</td>\n",
       "    </tr>\n",
       "  </tbody>\n",
       "</table>\n",
       "</div>"
      ],
      "text/plain": [
       "        country  Year  Depression_Population\n",
       "10  Afghanistan  2000                 501129\n",
       "11  Afghanistan  2001                 506530\n",
       "12  Afghanistan  2002                 537767\n",
       "13  Afghanistan  2003                 573188\n",
       "14  Afghanistan  2004                 590949"
      ]
     },
     "execution_count": 27,
     "metadata": {},
     "output_type": "execute_result"
    }
   ],
   "source": [
    "depression_df.head()"
   ]
  },
  {
   "cell_type": "code",
   "execution_count": 28,
   "metadata": {},
   "outputs": [],
   "source": [
    "depression_df.country.replace('Bolivia', 'Bolivia (Plurinational State of)',inplace=True)\n",
    "depression_df.country.replace('Brunei', 'Brunei Darussalam',inplace=True)\n",
    "depression_df.country.replace('Iran','Iran (Islamic Republic of)',inplace=True)\n",
    "depression_df.country.replace('Laos','Lao People\\'s Democratic Republic',inplace=True)\n",
    "depression_df.country.replace('Micronesia (country)','Micronesia (Federated States of)',inplace=True)\n",
    "depression_df.country.replace('Moldova','Republic of Moldova',inplace=True)\n",
    "depression_df.country.replace('Russia','Russian Federation',inplace=True)\n",
    "depression_df.country.replace('Syria','Syrian Arab Republic',inplace=True)\n",
    "depression_df.country.replace('North Macedonia','The former Yugoslav republic of Macedonia',inplace=True)\n",
    "depression_df.country.replace('Timor','Timor-Leste',inplace=True)\n",
    "depression_df.country.replace('United Kingdom','United Kingdom of Great Britain and Northern Ireland',inplace=True)\n",
    "depression_df.country.replace('Tanzania','United Republic of Tanzania',inplace=True)\n",
    "depression_df.country.replace('United States','United States of America',inplace=True)\n",
    "depression_df.country.replace('Venezuela','Venezuela (Bolivarian Republic of)',inplace=True)\n",
    "depression_df.country.replace('South Korea','Republic of Korea',inplace=True)\n",
    "depression_df.country.replace('North Korea','Democratic People\\'s Republic of Korea',inplace=True)"
   ]
  },
  {
   "cell_type": "code",
   "execution_count": 29,
   "metadata": {},
   "outputs": [],
   "source": [
    "# Merge the dataset\n",
    "life_expectancy = life_expectancy.merge(depression_df,how='left')"
   ]
  },
  {
   "cell_type": "code",
   "execution_count": 30,
   "metadata": {},
   "outputs": [
    {
     "data": {
      "text/plain": [
       "193"
      ]
     },
     "execution_count": 30,
     "metadata": {},
     "output_type": "execute_result"
    }
   ],
   "source": [
    "life_expectancy.country.nunique()"
   ]
  },
  {
   "cell_type": "code",
   "execution_count": 31,
   "metadata": {},
   "outputs": [
    {
     "data": {
      "text/plain": [
       "array([\"Côte d'Ivoire\", 'Cabo Verde', 'Cook Islands',\n",
       "       'Democratic Republic of the Congo', 'Monaco', 'Nauru', 'Niue',\n",
       "       'Palau', 'Saint Kitts and Nevis', 'San Marino', 'Swaziland',\n",
       "       'Tuvalu'], dtype=object)"
      ]
     },
     "execution_count": 31,
     "metadata": {},
     "output_type": "execute_result"
    }
   ],
   "source": [
    "life_expectancy[life_expectancy.Depression_Population.isna()].country.unique()"
   ]
  },
  {
   "cell_type": "code",
   "execution_count": 32,
   "metadata": {},
   "outputs": [],
   "source": [
    "# Drop NaN from the columns\n",
    "life_expectancy.dropna(how='any',subset=['Depression_Population'],inplace=True)\n",
    "life_expectancy['Depression_Population'] = life_expectancy['Depression_Population'].astype(int)"
   ]
  },
  {
   "cell_type": "code",
   "execution_count": 33,
   "metadata": {},
   "outputs": [
    {
     "data": {
      "text/plain": [
       "181"
      ]
     },
     "execution_count": 33,
     "metadata": {},
     "output_type": "execute_result"
    }
   ],
   "source": [
    "life_expectancy.country.nunique()"
   ]
  },
  {
   "cell_type": "markdown",
   "metadata": {},
   "source": [
    "<h1 style=\"text-align:center;\">CLEANING AND MERGING CANNABIS LEGALIZATION DATASET</h1>"
   ]
  },
  {
   "cell_type": "code",
   "execution_count": 34,
   "metadata": {},
   "outputs": [],
   "source": [
    "cannabis_df = pd.read_csv('cannabis_legalization.csv')"
   ]
  },
  {
   "cell_type": "code",
   "execution_count": 35,
   "metadata": {},
   "outputs": [
    {
     "data": {
      "text/html": [
       "<div>\n",
       "<style scoped>\n",
       "    .dataframe tbody tr th:only-of-type {\n",
       "        vertical-align: middle;\n",
       "    }\n",
       "\n",
       "    .dataframe tbody tr th {\n",
       "        vertical-align: top;\n",
       "    }\n",
       "\n",
       "    .dataframe thead th {\n",
       "        text-align: right;\n",
       "    }\n",
       "</style>\n",
       "<table border=\"1\" class=\"dataframe\">\n",
       "  <thead>\n",
       "    <tr style=\"text-align: right;\">\n",
       "      <th></th>\n",
       "      <th>Country/Territory</th>\n",
       "      <th>Recreational</th>\n",
       "      <th>Medical</th>\n",
       "    </tr>\n",
       "  </thead>\n",
       "  <tbody>\n",
       "    <tr>\n",
       "      <th>0</th>\n",
       "      <td>Afghanistan</td>\n",
       "      <td>Illegal</td>\n",
       "      <td>Illegal</td>\n",
       "    </tr>\n",
       "    <tr>\n",
       "      <th>1</th>\n",
       "      <td>Albania</td>\n",
       "      <td>Illegal</td>\n",
       "      <td>Illegal</td>\n",
       "    </tr>\n",
       "    <tr>\n",
       "      <th>2</th>\n",
       "      <td>Algeria</td>\n",
       "      <td>Illegal</td>\n",
       "      <td>Illegal</td>\n",
       "    </tr>\n",
       "    <tr>\n",
       "      <th>3</th>\n",
       "      <td>Andorra</td>\n",
       "      <td>Illegal</td>\n",
       "      <td>Illegal</td>\n",
       "    </tr>\n",
       "    <tr>\n",
       "      <th>4</th>\n",
       "      <td>Angola</td>\n",
       "      <td>Illegal</td>\n",
       "      <td>Illegal</td>\n",
       "    </tr>\n",
       "    <tr>\n",
       "      <th>...</th>\n",
       "      <td>...</td>\n",
       "      <td>...</td>\n",
       "      <td>...</td>\n",
       "    </tr>\n",
       "    <tr>\n",
       "      <th>201</th>\n",
       "      <td>Venezuela</td>\n",
       "      <td>Illegal</td>\n",
       "      <td>Illegal</td>\n",
       "    </tr>\n",
       "    <tr>\n",
       "      <th>202</th>\n",
       "      <td>Vietnam</td>\n",
       "      <td>Illegal</td>\n",
       "      <td>Illegal</td>\n",
       "    </tr>\n",
       "    <tr>\n",
       "      <th>203</th>\n",
       "      <td>Yemen</td>\n",
       "      <td>Illegal</td>\n",
       "      <td>Illegal</td>\n",
       "    </tr>\n",
       "    <tr>\n",
       "      <th>204</th>\n",
       "      <td>Zambia</td>\n",
       "      <td>Illegal</td>\n",
       "      <td>Legal</td>\n",
       "    </tr>\n",
       "    <tr>\n",
       "      <th>205</th>\n",
       "      <td>Zimbabwe</td>\n",
       "      <td>Illegal</td>\n",
       "      <td>Legal</td>\n",
       "    </tr>\n",
       "  </tbody>\n",
       "</table>\n",
       "<p>206 rows × 3 columns</p>\n",
       "</div>"
      ],
      "text/plain": [
       "    Country/Territory Recreational  Medical\n",
       "0         Afghanistan      Illegal  Illegal\n",
       "1             Albania      Illegal  Illegal\n",
       "2             Algeria      Illegal  Illegal\n",
       "3             Andorra      Illegal  Illegal\n",
       "4              Angola      Illegal  Illegal\n",
       "..                ...          ...      ...\n",
       "201         Venezuela      Illegal  Illegal\n",
       "202           Vietnam      Illegal  Illegal\n",
       "203             Yemen      Illegal  Illegal\n",
       "204            Zambia      Illegal    Legal\n",
       "205          Zimbabwe      Illegal    Legal\n",
       "\n",
       "[206 rows x 3 columns]"
      ]
     },
     "execution_count": 35,
     "metadata": {},
     "output_type": "execute_result"
    }
   ],
   "source": [
    "cannabis_df"
   ]
  },
  {
   "cell_type": "code",
   "execution_count": 36,
   "metadata": {},
   "outputs": [],
   "source": [
    "# Clean the Recreational columns in dataset\n",
    "cannabis_df.Recreational[cannabis_df.Recreational.str.contains(\"Decriminalized|decriminalized\")] = 'Legal'\n",
    "cannabis_df.Recreational[cannabis_df.Recreational.str.contains(\"Legal\")] = 'Legal'\n",
    "cannabis_df.Recreational[cannabis_df.Recreational.str.contains(\"Illegal\")] = 'Illegal'\n",
    "cannabis_df.drop(cannabis_df[cannabis_df[\"Country/Territory\"] == \"Country/Territory\"].index, inplace=True)\n",
    "cannabis_df.drop(cannabis_df[cannabis_df[\"Recreational\"] == \"Un\\xadknown\"].index, inplace=True)\n"
   ]
  },
  {
   "cell_type": "code",
   "execution_count": 37,
   "metadata": {
    "scrolled": false
   },
   "outputs": [],
   "source": [
    "# Clean the Medical columns in dataset\n",
    "# Use loc[] method to prevent the chained indexing warning in this part\n",
    "cannabis_df.loc[:, \"Medical\"][cannabis_df.Medical.str.contains(\"Decriminalized|decriminalized\")] = 'Legal'\n",
    "cannabis_df.loc[:, \"Medical\"][cannabis_df.Medical.str.contains(\"Legal\")] = 'Legal'\n",
    "cannabis_df.loc[:, \"Medical\"][cannabis_df.Medical.str.contains(\"Illegal\")] = 'Illegal'\n",
    "cannabis_df.loc[:, \"Medical\"][cannabis_df.Medical.str.contains(\"Illegal\")] = 'Illegal'\n",
    "cannabis_df.loc[:, \"Medical\"][cannabis_df.Medical.str\\\n",
    "                              .contains(\"CBD|Sativex|Marinol|Dronabinol|Nabilone|permit|prescribed|underway|system\")] = 'Illegal'"
   ]
  },
  {
   "cell_type": "code",
   "execution_count": 38,
   "metadata": {},
   "outputs": [],
   "source": [
    "# Set Illegal to 0, Legal to 1\n",
    "cannabis_df.Recreational.replace(to_replace=[\"Illegal\",\"Legal\"],value=[0,1],inplace=True)\n",
    "cannabis_df.Medical.replace(to_replace=[\"Illegal\",\"Legal\"],value=[0,1],inplace=True)\n",
    "\n",
    "# Rename columns\n",
    "cannabis_df.rename(columns = {'Country/Territory':'country','Recreational':'Cannabis_Recreational',\\\n",
    "                              'Medical':'Cannabis_Medical'}, inplace = True)"
   ]
  },
  {
   "cell_type": "code",
   "execution_count": 39,
   "metadata": {},
   "outputs": [],
   "source": [
    "list_of_names_life = life_expectancy['country'].unique()\n",
    "list_of_names_can = cannabis_df['country'].unique()"
   ]
  },
  {
   "cell_type": "code",
   "execution_count": 40,
   "metadata": {},
   "outputs": [],
   "source": [
    "unmatched = []\n",
    "\n",
    "for i in range(len(list_of_names_life)):\n",
    "    for j in range(len(list_of_names_can)):\n",
    "        if list_of_names_life[i] not in list_of_names_can:\n",
    "            unmatched.append(list_of_names_life[i])\n",
    "            break\n",
    "        else:\n",
    "            break"
   ]
  },
  {
   "cell_type": "code",
   "execution_count": 41,
   "metadata": {},
   "outputs": [
    {
     "data": {
      "text/plain": [
       "['Bolivia (Plurinational State of)',\n",
       " 'Brunei Darussalam',\n",
       " 'China',\n",
       " 'Congo',\n",
       " 'Czechia',\n",
       " \"Democratic People's Republic of Korea\",\n",
       " 'Iran (Islamic Republic of)',\n",
       " \"Lao People's Democratic Republic\",\n",
       " 'Micronesia (Federated States of)',\n",
       " 'Republic of Korea',\n",
       " 'Republic of Moldova',\n",
       " 'Russian Federation',\n",
       " 'Sao Tome and Principe',\n",
       " 'Syrian Arab Republic',\n",
       " 'The former Yugoslav republic of Macedonia',\n",
       " 'Timor-Leste',\n",
       " 'United Kingdom of Great Britain and Northern Ireland',\n",
       " 'United Republic of Tanzania',\n",
       " 'United States of America',\n",
       " 'Venezuela (Bolivarian Republic of)']"
      ]
     },
     "execution_count": 41,
     "metadata": {},
     "output_type": "execute_result"
    }
   ],
   "source": [
    "unmatched"
   ]
  },
  {
   "cell_type": "code",
   "execution_count": 42,
   "metadata": {},
   "outputs": [],
   "source": [
    "cannabis_df.country.replace('Bolivia', 'Bolivia (Plurinational State of)',inplace=True)\n",
    "cannabis_df.country.replace('Brunei', 'Brunei Darussalam',inplace=True)\n",
    "cannabis_df.country.replace('People\\'s Republic of China (PRC)','China',inplace=True)\n",
    "cannabis_df.country.replace('Democratic Republic of the Congo','Congo',inplace=True)\n",
    "cannabis_df.country.replace('Czech Republic','Czechia',inplace=True)\n",
    "cannabis_df.country.replace('North Korea','Democratic People\\'s Republic of Korea',inplace=True)\n",
    "cannabis_df.country.replace('Iran','Iran (Islamic Republic of)',inplace=True)\n",
    "cannabis_df.country.replace('Laos','Lao People\\'s Democratic Republic',inplace=True)\n",
    "cannabis_df.country.replace('Micronesia','Micronesia (Federated States of)',inplace=True)\n",
    "cannabis_df.country.replace('Korea, South','Republic of Korea',inplace=True)\n",
    "cannabis_df.country.replace('Moldova','Republic of Moldova',inplace=True)\n",
    "cannabis_df.country.replace('Russia','Russian Federation',inplace=True)\n",
    "cannabis_df.country.replace('Syria','Syrian Arab Republic',inplace=True)\n",
    "cannabis_df.country.replace('North Macedonia','The former Yugoslav republic of Macedonia',inplace=True)\n",
    "cannabis_df.country.replace('East Timor','Timor-Leste',inplace=True)\n",
    "cannabis_df.country.replace('United Kingdom','United Kingdom of Great Britain and Northern Ireland',inplace=True)\n",
    "cannabis_df.country.replace('Tanzania','United Republic of Tanzania',inplace=True)\n",
    "cannabis_df.country.replace('United States','United States of America',inplace=True)\n",
    "cannabis_df.country.replace('Venezuela','Venezuela (Bolivarian Republic of)',inplace=True)"
   ]
  },
  {
   "cell_type": "code",
   "execution_count": 43,
   "metadata": {
    "scrolled": true
   },
   "outputs": [],
   "source": [
    "# Merge the dataset\n",
    "life_expectancy = life_expectancy.merge(cannabis_df,on='country',how='left')"
   ]
  },
  {
   "cell_type": "code",
   "execution_count": 44,
   "metadata": {},
   "outputs": [
    {
     "data": {
      "text/plain": [
       "181"
      ]
     },
     "execution_count": 44,
     "metadata": {},
     "output_type": "execute_result"
    }
   ],
   "source": [
    "life_expectancy.country.nunique()"
   ]
  },
  {
   "cell_type": "code",
   "execution_count": 45,
   "metadata": {},
   "outputs": [],
   "source": [
    "# Drop NaN from the columns\n",
    "life_expectancy.dropna(how='any',subset=['Cannabis_Recreational'],inplace=True)\n",
    "life_expectancy.dropna(how='any',subset=['Cannabis_Medical'],inplace=True)\n",
    "life_expectancy['Cannabis_Recreational'] = life_expectancy['Cannabis_Recreational'].astype(int)\n",
    "life_expectancy['Cannabis_Medical'] = life_expectancy['Cannabis_Medical'].astype(int)"
   ]
  },
  {
   "cell_type": "code",
   "execution_count": 46,
   "metadata": {
    "scrolled": true
   },
   "outputs": [
    {
     "data": {
      "text/plain": [
       "179"
      ]
     },
     "execution_count": 46,
     "metadata": {},
     "output_type": "execute_result"
    }
   ],
   "source": [
    "life_expectancy.country.nunique()"
   ]
  },
  {
   "cell_type": "markdown",
   "metadata": {},
   "source": [
    "<h1 style=\"text-align:center;\">UPDATE POPULATION INFORMATION</h1>"
   ]
  },
  {
   "cell_type": "code",
   "execution_count": 47,
   "metadata": {},
   "outputs": [
    {
     "data": {
      "text/html": [
       "<div>\n",
       "<style scoped>\n",
       "    .dataframe tbody tr th:only-of-type {\n",
       "        vertical-align: middle;\n",
       "    }\n",
       "\n",
       "    .dataframe tbody tr th {\n",
       "        vertical-align: top;\n",
       "    }\n",
       "\n",
       "    .dataframe thead th {\n",
       "        text-align: right;\n",
       "    }\n",
       "</style>\n",
       "<table border=\"1\" class=\"dataframe\">\n",
       "  <thead>\n",
       "    <tr style=\"text-align: right;\">\n",
       "      <th></th>\n",
       "      <th>name</th>\n",
       "      <th>Year</th>\n",
       "      <th>Population_new</th>\n",
       "    </tr>\n",
       "  </thead>\n",
       "  <tbody>\n",
       "    <tr>\n",
       "      <th>0</th>\n",
       "      <td>China</td>\n",
       "      <td>2015</td>\n",
       "      <td>1406847870</td>\n",
       "    </tr>\n",
       "    <tr>\n",
       "      <th>1</th>\n",
       "      <td>India</td>\n",
       "      <td>2015</td>\n",
       "      <td>1310152403</td>\n",
       "    </tr>\n",
       "    <tr>\n",
       "      <th>2</th>\n",
       "      <td>United States</td>\n",
       "      <td>2015</td>\n",
       "      <td>320878310</td>\n",
       "    </tr>\n",
       "    <tr>\n",
       "      <th>3</th>\n",
       "      <td>Indonesia</td>\n",
       "      <td>2015</td>\n",
       "      <td>258383256</td>\n",
       "    </tr>\n",
       "    <tr>\n",
       "      <th>4</th>\n",
       "      <td>Pakistan</td>\n",
       "      <td>2015</td>\n",
       "      <td>199426963</td>\n",
       "    </tr>\n",
       "    <tr>\n",
       "      <th>...</th>\n",
       "      <td>...</td>\n",
       "      <td>...</td>\n",
       "      <td>...</td>\n",
       "    </tr>\n",
       "    <tr>\n",
       "      <th>691</th>\n",
       "      <td>Montserrat</td>\n",
       "      <td>2000</td>\n",
       "      <td>4928</td>\n",
       "    </tr>\n",
       "    <tr>\n",
       "      <th>692</th>\n",
       "      <td>Falkland Islands</td>\n",
       "      <td>2000</td>\n",
       "      <td>2892</td>\n",
       "    </tr>\n",
       "    <tr>\n",
       "      <th>693</th>\n",
       "      <td>Niue</td>\n",
       "      <td>2000</td>\n",
       "      <td>1899</td>\n",
       "    </tr>\n",
       "    <tr>\n",
       "      <th>694</th>\n",
       "      <td>Tokelau</td>\n",
       "      <td>2000</td>\n",
       "      <td>1554</td>\n",
       "    </tr>\n",
       "    <tr>\n",
       "      <th>695</th>\n",
       "      <td>Vatican City</td>\n",
       "      <td>2000</td>\n",
       "      <td>785</td>\n",
       "    </tr>\n",
       "  </tbody>\n",
       "</table>\n",
       "<p>696 rows × 3 columns</p>\n",
       "</div>"
      ],
      "text/plain": [
       "                 name  Year  Population_new\n",
       "0               China  2015      1406847870\n",
       "1               India  2015      1310152403\n",
       "2       United States  2015       320878310\n",
       "3           Indonesia  2015       258383256\n",
       "4            Pakistan  2015       199426963\n",
       "..                ...   ...             ...\n",
       "691        Montserrat  2000            4928\n",
       "692  Falkland Islands  2000            2892\n",
       "693              Niue  2000            1899\n",
       "694           Tokelau  2000            1554\n",
       "695      Vatican City  2000             785\n",
       "\n",
       "[696 rows x 3 columns]"
      ]
     },
     "execution_count": 47,
     "metadata": {},
     "output_type": "execute_result"
    }
   ],
   "source": [
    "new_population = pd.read_csv('csvData_CountryPop.csv')\n",
    "new_population = new_population.rename(columns={'pop2015' : 2015 , 'pop2010' : 2010,\\\n",
    "                      'pop2000' : 2000}).drop(columns=['pop2021','pop2020','pop2019','pop2050','pop2030','pop1990','pop1970','pop1980','area','Density','GrowthRate','WorldPercentage','rank'])\n",
    "\n",
    "new_population.drop('cca2',axis=1,inplace=True)\n",
    "\n",
    "new_population = new_population.melt(id_vars=[\"name\"], \n",
    "        var_name = \"Year\", \n",
    "        value_name = \"Population_new\")\n",
    "\n",
    "new_population.Population_new = new_population.Population_new*1000\n",
    "new_population.Population_new = new_population.Population_new.astype('int')\n",
    "new_population.to_csv('new_population')\n",
    "new_population"
   ]
  },
  {
   "cell_type": "code",
   "execution_count": 48,
   "metadata": {},
   "outputs": [],
   "source": [
    "# Cleaning the new_population datasets\n",
    "new_population.loc[:, \"name\"][new_population.name.str.contains(\"Bolivia\")] = 'Bolivia (Plurinational State of)'\n",
    "new_population.loc[:, \"name\"][new_population.name.str.contains(\"Brunei\")] = 'Brunei Darussalam'\n",
    "new_population.drop(new_population[new_population[\"name\"] == \"Republic of the Congo\"].index, inplace=True)\n",
    "new_population.loc[:, \"name\"][new_population.name.str.contains(\"DR Congo\")] = 'Congo'\n",
    "new_population.loc[:, \"name\"][new_population.name.str.contains(\"Czech Republic\")] = 'Czechia'\n",
    "new_population.loc[:, \"name\"][new_population.name.str.contains(\"Iran\")] = 'Iran (Islamic Republic of)'\n",
    "new_population.loc[:, \"name\"][new_population.name.str.contains(\"Laos\")] = 'Lao People\\'s Democratic Republic'\n",
    "new_population.loc[:, \"name\"][new_population.name.str.contains(\"Micronesia\")] = 'Micronesia (Federated States of)'\n",
    "new_population.loc[:, \"name\"][new_population.name.str.contains(\"South Korea\")] = 'Republic of Korea'\n",
    "new_population.drop(new_population[new_population[\"name\"] == \"North Korea\"].index, inplace=True)\n",
    "new_population.loc[:, \"name\"][new_population.name.str.contains(\"Moldova\")] = 'Republic of Moldova'\n",
    "new_population.loc[:, \"name\"][new_population.name.str.contains(\"Russia\")] = 'Russian Federation'\n",
    "new_population.loc[:, \"name\"][new_population.name.str.contains(\"Syria\")] = 'Syrian Arab Republic'\n",
    "new_population.loc[:, \"name\"][new_population.name.str.contains(\"North Macedonia\")] = 'The former Yugoslav republic of Macedonia'\n",
    "new_population.loc[:, \"name\"][new_population.name.str.contains(\"United Kingdom\")] = 'United Kingdom of Great Britain and Northern Ireland'\n",
    "new_population.loc[:, \"name\"][new_population.name.str.contains(\"Tanzania\")] = 'United Republic of Tanzania'\n",
    "new_population.loc[:, \"name\"][new_population.name.str.contains(\"United States\")] = 'United States of America'\n",
    "new_population.loc[:, \"name\"][new_population.name.str.contains(\"Venezuela\")] = 'Venezuela (Bolivarian Republic of)'"
   ]
  },
  {
   "cell_type": "code",
   "execution_count": 49,
   "metadata": {},
   "outputs": [],
   "source": [
    "life_expectancy = life_expectancy.merge(new_population,left_on=['country','Year'],right_on=['name','Year'],how = 'left').drop('name',axis=1)\n",
    "life_expectancy = life_expectancy.set_index('country').drop(['Dominica','Marshall Islands']).reset_index()"
   ]
  },
  {
   "cell_type": "code",
   "execution_count": 50,
   "metadata": {},
   "outputs": [
    {
     "data": {
      "text/plain": [
       "country\n",
       "Afghanistan                           2.812635e+07\n",
       "Albania                               2.989259e+06\n",
       "Algeria                               3.558257e+07\n",
       "Angola                                2.254537e+07\n",
       "Antigua and Barbuda                   8.586967e+04\n",
       "                                          ...     \n",
       "Venezuela (Bolivarian Republic of)    2.757140e+07\n",
       "Vietnam                               8.685171e+07\n",
       "Yemen                                 2.235394e+07\n",
       "Zambia                                1.330043e+07\n",
       "Zimbabwe                              1.279794e+07\n",
       "Name: Population_new, Length: 177, dtype: float64"
      ]
     },
     "execution_count": 50,
     "metadata": {},
     "output_type": "execute_result"
    }
   ],
   "source": [
    "# taking the average of Population\n",
    "(life_expectancy.groupby('country')['Population_new'].mean())"
   ]
  },
  {
   "cell_type": "code",
   "execution_count": 51,
   "metadata": {},
   "outputs": [],
   "source": [
    "mean_pop = (life_expectancy.groupby('country')['Population_new'].mean()).astype('int').to_frame()\n",
    "life_expectancy = life_expectancy.merge(mean_pop,left_on='country',right_on='country',how='left')"
   ]
  },
  {
   "cell_type": "code",
   "execution_count": 52,
   "metadata": {},
   "outputs": [],
   "source": [
    "life_expectancy.Population_new_x.fillna(0,inplace=True)\n",
    "for a in range(len(life_expectancy)):\n",
    "    if life_expectancy.Population_new_x[a] == 0:\n",
    "        life_expectancy.Population_new_x[a] = (life_expectancy.Population_new_y[a])\n",
    "life_expectancy['Population'] = life_expectancy.Population_new_x.astype('int')      \n",
    "life_expectancy.drop(columns=['Population_new_x','Population_new_y'],inplace=True)"
   ]
  },
  {
   "cell_type": "code",
   "execution_count": 53,
   "metadata": {},
   "outputs": [
    {
     "data": {
      "text/html": [
       "<div>\n",
       "<style scoped>\n",
       "    .dataframe tbody tr th:only-of-type {\n",
       "        vertical-align: middle;\n",
       "    }\n",
       "\n",
       "    .dataframe tbody tr th {\n",
       "        vertical-align: top;\n",
       "    }\n",
       "\n",
       "    .dataframe thead th {\n",
       "        text-align: right;\n",
       "    }\n",
       "</style>\n",
       "<table border=\"1\" class=\"dataframe\">\n",
       "  <thead>\n",
       "    <tr style=\"text-align: right;\">\n",
       "      <th></th>\n",
       "      <th>country</th>\n",
       "      <th>Year</th>\n",
       "      <th>life_expectancy</th>\n",
       "      <th>adult_mortality</th>\n",
       "      <th>infant_deaths</th>\n",
       "      <th>Alcohol</th>\n",
       "      <th>expenditure_%</th>\n",
       "      <th>hepB</th>\n",
       "      <th>Measles</th>\n",
       "      <th>bmi</th>\n",
       "      <th>deaths_U5</th>\n",
       "      <th>Polio</th>\n",
       "      <th>total_expenditure</th>\n",
       "      <th>diphtheria</th>\n",
       "      <th>hiv_aids</th>\n",
       "      <th>GDP</th>\n",
       "      <th>Population</th>\n",
       "      <th>thinness_1_19</th>\n",
       "      <th>thinness_5_9</th>\n",
       "      <th>income_composition</th>\n",
       "      <th>Schooling</th>\n",
       "      <th>Status</th>\n",
       "      <th>country_code</th>\n",
       "      <th>latitude</th>\n",
       "      <th>longitude</th>\n",
       "      <th>Crime_Index</th>\n",
       "      <th>Cigarettes_per_day</th>\n",
       "      <th>Depression_Population</th>\n",
       "      <th>Cannabis_Recreational</th>\n",
       "      <th>Cannabis_Medical</th>\n",
       "    </tr>\n",
       "  </thead>\n",
       "  <tbody>\n",
       "    <tr>\n",
       "      <th>0</th>\n",
       "      <td>Afghanistan</td>\n",
       "      <td>2015</td>\n",
       "      <td>65.0</td>\n",
       "      <td>263.0</td>\n",
       "      <td>62</td>\n",
       "      <td>0.01</td>\n",
       "      <td>71.279624</td>\n",
       "      <td>65.0</td>\n",
       "      <td>1154</td>\n",
       "      <td>19.1</td>\n",
       "      <td>83</td>\n",
       "      <td>6.0</td>\n",
       "      <td>8.16</td>\n",
       "      <td>65.0</td>\n",
       "      <td>0.1</td>\n",
       "      <td>584.25921</td>\n",
       "      <td>34413602</td>\n",
       "      <td>17.2</td>\n",
       "      <td>17.3</td>\n",
       "      <td>0.479</td>\n",
       "      <td>10.1</td>\n",
       "      <td>0</td>\n",
       "      <td>AF</td>\n",
       "      <td>33.93911</td>\n",
       "      <td>67.709953</td>\n",
       "      <td>76.31</td>\n",
       "      <td>311.6</td>\n",
       "      <td>906133</td>\n",
       "      <td>0</td>\n",
       "      <td>0</td>\n",
       "    </tr>\n",
       "  </tbody>\n",
       "</table>\n",
       "</div>"
      ],
      "text/plain": [
       "       country  Year  life_expectancy  adult_mortality  infant_deaths  \\\n",
       "0  Afghanistan  2015             65.0            263.0             62   \n",
       "\n",
       "   Alcohol  expenditure_%  hepB  Measles    bmi  deaths_U5  Polio  \\\n",
       "0     0.01      71.279624  65.0      1154  19.1         83    6.0   \n",
       "\n",
       "   total_expenditure  diphtheria  hiv_aids        GDP  Population  \\\n",
       "0               8.16        65.0       0.1  584.25921    34413602   \n",
       "\n",
       "   thinness_1_19  thinness_5_9  income_composition  Schooling  Status  \\\n",
       "0           17.2          17.3               0.479       10.1       0   \n",
       "\n",
       "  country_code  latitude  longitude  Crime_Index  Cigarettes_per_day  \\\n",
       "0           AF  33.93911  67.709953        76.31               311.6   \n",
       "\n",
       "   Depression_Population  Cannabis_Recreational  Cannabis_Medical  \n",
       "0                 906133                      0                 0  "
      ]
     },
     "execution_count": 53,
     "metadata": {},
     "output_type": "execute_result"
    }
   ],
   "source": [
    "life_expectancy.head(1)"
   ]
  },
  {
   "cell_type": "code",
   "execution_count": 54,
   "metadata": {},
   "outputs": [
    {
     "data": {
      "text/plain": [
       "Index(['country', 'Year', 'life_expectancy', 'adult_mortality',\n",
       "       'infant_deaths', 'Alcohol', 'expenditure_%', 'hepB', 'Measles ', 'bmi',\n",
       "       'deaths_U5', 'Polio', 'total_expenditure', 'diphtheria', 'hiv_aids',\n",
       "       'GDP', 'Population', 'thinness_1_19', 'thinness_5_9',\n",
       "       'income_composition', 'Schooling', 'Status', 'country_code', 'latitude',\n",
       "       'longitude', 'Crime_Index', 'Cigarettes_per_day',\n",
       "       'Depression_Population', 'Cannabis_Recreational', 'Cannabis_Medical'],\n",
       "      dtype='object')"
      ]
     },
     "execution_count": 54,
     "metadata": {},
     "output_type": "execute_result"
    }
   ],
   "source": [
    "life_expectancy.columns"
   ]
  },
  {
   "cell_type": "code",
   "execution_count": 55,
   "metadata": {},
   "outputs": [],
   "source": [
    "#drop the columns that we found out the numbers could be wrong\n",
    "life_expectancy.drop(columns=['adult_mortality', 'infant_deaths','expenditure_%', 'bmi', 'thinness_1_19',\\\n",
    "                              'thinness_5_9', 'country_code'], inplace=True)"
   ]
  },
  {
   "cell_type": "code",
   "execution_count": 56,
   "metadata": {},
   "outputs": [
    {
     "data": {
      "text/html": [
       "<div>\n",
       "<style scoped>\n",
       "    .dataframe tbody tr th:only-of-type {\n",
       "        vertical-align: middle;\n",
       "    }\n",
       "\n",
       "    .dataframe tbody tr th {\n",
       "        vertical-align: top;\n",
       "    }\n",
       "\n",
       "    .dataframe thead th {\n",
       "        text-align: right;\n",
       "    }\n",
       "</style>\n",
       "<table border=\"1\" class=\"dataframe\">\n",
       "  <thead>\n",
       "    <tr style=\"text-align: right;\">\n",
       "      <th></th>\n",
       "      <th>country</th>\n",
       "      <th>Year</th>\n",
       "      <th>life_expectancy</th>\n",
       "      <th>Alcohol</th>\n",
       "      <th>hepB</th>\n",
       "      <th>Measles</th>\n",
       "      <th>deaths_U5</th>\n",
       "      <th>Polio</th>\n",
       "      <th>total_expenditure</th>\n",
       "      <th>diphtheria</th>\n",
       "      <th>hiv_aids</th>\n",
       "      <th>GDP</th>\n",
       "      <th>Population</th>\n",
       "      <th>income_composition</th>\n",
       "      <th>Schooling</th>\n",
       "      <th>Status</th>\n",
       "      <th>latitude</th>\n",
       "      <th>longitude</th>\n",
       "      <th>Crime_Index</th>\n",
       "      <th>Cigarettes_per_day</th>\n",
       "      <th>Depression_Population</th>\n",
       "      <th>Cannabis_Recreational</th>\n",
       "      <th>Cannabis_Medical</th>\n",
       "    </tr>\n",
       "  </thead>\n",
       "  <tbody>\n",
       "    <tr>\n",
       "      <th>0</th>\n",
       "      <td>Afghanistan</td>\n",
       "      <td>2015</td>\n",
       "      <td>65.0</td>\n",
       "      <td>0.01</td>\n",
       "      <td>65.0</td>\n",
       "      <td>1154</td>\n",
       "      <td>83</td>\n",
       "      <td>6.0</td>\n",
       "      <td>8.16</td>\n",
       "      <td>65.0</td>\n",
       "      <td>0.1</td>\n",
       "      <td>584.25921</td>\n",
       "      <td>34413602</td>\n",
       "      <td>0.479</td>\n",
       "      <td>10.1</td>\n",
       "      <td>0</td>\n",
       "      <td>33.93911</td>\n",
       "      <td>67.709953</td>\n",
       "      <td>76.31</td>\n",
       "      <td>311.6</td>\n",
       "      <td>906133</td>\n",
       "      <td>0</td>\n",
       "      <td>0</td>\n",
       "    </tr>\n",
       "  </tbody>\n",
       "</table>\n",
       "</div>"
      ],
      "text/plain": [
       "       country  Year  life_expectancy  Alcohol  hepB  Measles   deaths_U5  \\\n",
       "0  Afghanistan  2015             65.0     0.01  65.0      1154         83   \n",
       "\n",
       "   Polio  total_expenditure  diphtheria  hiv_aids        GDP  Population  \\\n",
       "0    6.0               8.16        65.0       0.1  584.25921    34413602   \n",
       "\n",
       "   income_composition  Schooling  Status  latitude  longitude  Crime_Index  \\\n",
       "0               0.479       10.1       0  33.93911  67.709953        76.31   \n",
       "\n",
       "   Cigarettes_per_day  Depression_Population  Cannabis_Recreational  \\\n",
       "0               311.6                 906133                      0   \n",
       "\n",
       "   Cannabis_Medical  \n",
       "0                 0  "
      ]
     },
     "execution_count": 56,
     "metadata": {},
     "output_type": "execute_result"
    }
   ],
   "source": [
    "life_expectancy.head(1)"
   ]
  },
  {
   "cell_type": "code",
   "execution_count": 57,
   "metadata": {},
   "outputs": [
    {
     "name": "stdout",
     "output_type": "stream",
     "text": [
      "<class 'pandas.core.frame.DataFrame'>\n",
      "Int64Index: 2835 entries, 0 to 2834\n",
      "Data columns (total 23 columns):\n",
      " #   Column                 Non-Null Count  Dtype  \n",
      "---  ------                 --------------  -----  \n",
      " 0   country                2835 non-null   object \n",
      " 1   Year                   2835 non-null   object \n",
      " 2   life_expectancy        2835 non-null   float64\n",
      " 3   Alcohol                2835 non-null   float64\n",
      " 4   hepB                   2835 non-null   float64\n",
      " 5   Measles                2835 non-null   int64  \n",
      " 6   deaths_U5              2835 non-null   int64  \n",
      " 7   Polio                  2835 non-null   float64\n",
      " 8   total_expenditure      2835 non-null   float64\n",
      " 9   diphtheria             2835 non-null   float64\n",
      " 10  hiv_aids               2835 non-null   float64\n",
      " 11  GDP                    2835 non-null   float64\n",
      " 12  Population             2835 non-null   int32  \n",
      " 13  income_composition     2835 non-null   float64\n",
      " 14  Schooling              2835 non-null   float64\n",
      " 15  Status                 2835 non-null   int32  \n",
      " 16  latitude               2528 non-null   float64\n",
      " 17  longitude              2528 non-null   float64\n",
      " 18  Crime_Index            2835 non-null   float64\n",
      " 19  Cigarettes_per_day     2723 non-null   float64\n",
      " 20  Depression_Population  2835 non-null   int32  \n",
      " 21  Cannabis_Recreational  2835 non-null   int32  \n",
      " 22  Cannabis_Medical       2835 non-null   int32  \n",
      "dtypes: float64(14), int32(5), int64(2), object(2)\n",
      "memory usage: 556.2+ KB\n"
     ]
    }
   ],
   "source": [
    "life_expectancy.info()"
   ]
  },
  {
   "cell_type": "code",
   "execution_count": 58,
   "metadata": {},
   "outputs": [
    {
     "data": {
      "text/html": [
       "<div>\n",
       "<style scoped>\n",
       "    .dataframe tbody tr th:only-of-type {\n",
       "        vertical-align: middle;\n",
       "    }\n",
       "\n",
       "    .dataframe tbody tr th {\n",
       "        vertical-align: top;\n",
       "    }\n",
       "\n",
       "    .dataframe thead th {\n",
       "        text-align: right;\n",
       "    }\n",
       "</style>\n",
       "<table border=\"1\" class=\"dataframe\">\n",
       "  <thead>\n",
       "    <tr style=\"text-align: right;\">\n",
       "      <th></th>\n",
       "      <th>life_expectancy</th>\n",
       "      <th>Alcohol</th>\n",
       "      <th>hepB</th>\n",
       "      <th>Measles</th>\n",
       "      <th>deaths_U5</th>\n",
       "      <th>Polio</th>\n",
       "      <th>total_expenditure</th>\n",
       "      <th>diphtheria</th>\n",
       "      <th>hiv_aids</th>\n",
       "      <th>GDP</th>\n",
       "      <th>Population</th>\n",
       "      <th>income_composition</th>\n",
       "      <th>Schooling</th>\n",
       "      <th>Status</th>\n",
       "      <th>latitude</th>\n",
       "      <th>longitude</th>\n",
       "      <th>Crime_Index</th>\n",
       "      <th>Cigarettes_per_day</th>\n",
       "      <th>Depression_Population</th>\n",
       "      <th>Cannabis_Recreational</th>\n",
       "      <th>Cannabis_Medical</th>\n",
       "    </tr>\n",
       "  </thead>\n",
       "  <tbody>\n",
       "    <tr>\n",
       "      <th>count</th>\n",
       "      <td>2835.000000</td>\n",
       "      <td>2835.000000</td>\n",
       "      <td>2835.000000</td>\n",
       "      <td>2835.000000</td>\n",
       "      <td>2835.000000</td>\n",
       "      <td>2835.000000</td>\n",
       "      <td>2835.000000</td>\n",
       "      <td>2835.000000</td>\n",
       "      <td>2835.000000</td>\n",
       "      <td>2835.000000</td>\n",
       "      <td>2.835000e+03</td>\n",
       "      <td>2835.000000</td>\n",
       "      <td>2835.000000</td>\n",
       "      <td>2835.000000</td>\n",
       "      <td>2528.000000</td>\n",
       "      <td>2528.000000</td>\n",
       "      <td>2835.000000</td>\n",
       "      <td>2723.000000</td>\n",
       "      <td>2.835000e+03</td>\n",
       "      <td>2835.000000</td>\n",
       "      <td>2835.000000</td>\n",
       "    </tr>\n",
       "    <tr>\n",
       "      <th>mean</th>\n",
       "      <td>69.522751</td>\n",
       "      <td>4.660765</td>\n",
       "      <td>81.106183</td>\n",
       "      <td>2220.336508</td>\n",
       "      <td>41.185538</td>\n",
       "      <td>82.594869</td>\n",
       "      <td>5.946556</td>\n",
       "      <td>82.276580</td>\n",
       "      <td>1.573474</td>\n",
       "      <td>7589.186567</td>\n",
       "      <td>3.730908e+07</td>\n",
       "      <td>0.628938</td>\n",
       "      <td>12.017380</td>\n",
       "      <td>0.181658</td>\n",
       "      <td>18.485207</td>\n",
       "      <td>14.827296</td>\n",
       "      <td>45.300768</td>\n",
       "      <td>895.168638</td>\n",
       "      <td>1.281029e+06</td>\n",
       "      <td>0.204233</td>\n",
       "      <td>0.255026</td>\n",
       "    </tr>\n",
       "    <tr>\n",
       "      <th>std</th>\n",
       "      <td>9.403668</td>\n",
       "      <td>3.957876</td>\n",
       "      <td>22.348217</td>\n",
       "      <td>10469.984163</td>\n",
       "      <td>161.800319</td>\n",
       "      <td>23.290050</td>\n",
       "      <td>2.412955</td>\n",
       "      <td>23.705259</td>\n",
       "      <td>4.414616</td>\n",
       "      <td>13348.860638</td>\n",
       "      <td>1.384853e+08</td>\n",
       "      <td>0.207800</td>\n",
       "      <td>3.299978</td>\n",
       "      <td>0.385630</td>\n",
       "      <td>24.358067</td>\n",
       "      <td>64.286706</td>\n",
       "      <td>12.550988</td>\n",
       "      <td>801.152281</td>\n",
       "      <td>4.930769e+06</td>\n",
       "      <td>0.403211</td>\n",
       "      <td>0.435953</td>\n",
       "    </tr>\n",
       "    <tr>\n",
       "      <th>min</th>\n",
       "      <td>36.300000</td>\n",
       "      <td>0.010000</td>\n",
       "      <td>2.000000</td>\n",
       "      <td>0.000000</td>\n",
       "      <td>0.000000</td>\n",
       "      <td>3.000000</td>\n",
       "      <td>0.370000</td>\n",
       "      <td>2.000000</td>\n",
       "      <td>0.100000</td>\n",
       "      <td>1.681350</td>\n",
       "      <td>7.601600e+04</td>\n",
       "      <td>0.000000</td>\n",
       "      <td>0.000000</td>\n",
       "      <td>0.000000</td>\n",
       "      <td>-40.900557</td>\n",
       "      <td>-175.198242</td>\n",
       "      <td>12.130000</td>\n",
       "      <td>25.300000</td>\n",
       "      <td>1.865000e+03</td>\n",
       "      <td>0.000000</td>\n",
       "      <td>0.000000</td>\n",
       "    </tr>\n",
       "    <tr>\n",
       "      <th>25%</th>\n",
       "      <td>63.550000</td>\n",
       "      <td>1.080000</td>\n",
       "      <td>80.940461</td>\n",
       "      <td>0.000000</td>\n",
       "      <td>0.000000</td>\n",
       "      <td>78.000000</td>\n",
       "      <td>4.360000</td>\n",
       "      <td>78.000000</td>\n",
       "      <td>0.100000</td>\n",
       "      <td>566.041666</td>\n",
       "      <td>2.705250e+06</td>\n",
       "      <td>0.499000</td>\n",
       "      <td>10.200000</td>\n",
       "      <td>0.000000</td>\n",
       "      <td>3.919305</td>\n",
       "      <td>-9.696645</td>\n",
       "      <td>39.960000</td>\n",
       "      <td>298.400000</td>\n",
       "      <td>7.528400e+04</td>\n",
       "      <td>0.000000</td>\n",
       "      <td>0.000000</td>\n",
       "    </tr>\n",
       "    <tr>\n",
       "      <th>50%</th>\n",
       "      <td>72.300000</td>\n",
       "      <td>4.220000</td>\n",
       "      <td>87.000000</td>\n",
       "      <td>18.000000</td>\n",
       "      <td>4.000000</td>\n",
       "      <td>93.000000</td>\n",
       "      <td>5.938190</td>\n",
       "      <td>93.000000</td>\n",
       "      <td>0.100000</td>\n",
       "      <td>2968.411860</td>\n",
       "      <td>8.807805e+06</td>\n",
       "      <td>0.672000</td>\n",
       "      <td>12.300000</td>\n",
       "      <td>0.000000</td>\n",
       "      <td>17.125346</td>\n",
       "      <td>19.601164</td>\n",
       "      <td>45.298110</td>\n",
       "      <td>585.400000</td>\n",
       "      <td>2.442500e+05</td>\n",
       "      <td>0.000000</td>\n",
       "      <td>0.000000</td>\n",
       "    </tr>\n",
       "    <tr>\n",
       "      <th>75%</th>\n",
       "      <td>75.900000</td>\n",
       "      <td>7.565000</td>\n",
       "      <td>96.000000</td>\n",
       "      <td>362.500000</td>\n",
       "      <td>27.000000</td>\n",
       "      <td>97.000000</td>\n",
       "      <td>7.365000</td>\n",
       "      <td>97.000000</td>\n",
       "      <td>0.600000</td>\n",
       "      <td>7483.158469</td>\n",
       "      <td>2.660099e+07</td>\n",
       "      <td>0.776000</td>\n",
       "      <td>14.200000</td>\n",
       "      <td>0.000000</td>\n",
       "      <td>39.399872</td>\n",
       "      <td>46.199616</td>\n",
       "      <td>50.390000</td>\n",
       "      <td>1419.100000</td>\n",
       "      <td>7.124860e+05</td>\n",
       "      <td>0.000000</td>\n",
       "      <td>1.000000</td>\n",
       "    </tr>\n",
       "    <tr>\n",
       "      <th>max</th>\n",
       "      <td>89.000000</td>\n",
       "      <td>17.870000</td>\n",
       "      <td>99.000000</td>\n",
       "      <td>212183.000000</td>\n",
       "      <td>2500.000000</td>\n",
       "      <td>99.000000</td>\n",
       "      <td>17.600000</td>\n",
       "      <td>99.000000</td>\n",
       "      <td>43.500000</td>\n",
       "      <td>119172.741800</td>\n",
       "      <td>1.406848e+09</td>\n",
       "      <td>0.948000</td>\n",
       "      <td>20.700000</td>\n",
       "      <td>1.000000</td>\n",
       "      <td>64.963051</td>\n",
       "      <td>179.414413</td>\n",
       "      <td>83.760000</td>\n",
       "      <td>6330.900000</td>\n",
       "      <td>5.551164e+07</td>\n",
       "      <td>1.000000</td>\n",
       "      <td>1.000000</td>\n",
       "    </tr>\n",
       "  </tbody>\n",
       "</table>\n",
       "</div>"
      ],
      "text/plain": [
       "       life_expectancy      Alcohol         hepB       Measles     deaths_U5  \\\n",
       "count      2835.000000  2835.000000  2835.000000    2835.000000  2835.000000   \n",
       "mean         69.522751     4.660765    81.106183    2220.336508    41.185538   \n",
       "std           9.403668     3.957876    22.348217   10469.984163   161.800319   \n",
       "min          36.300000     0.010000     2.000000       0.000000     0.000000   \n",
       "25%          63.550000     1.080000    80.940461       0.000000     0.000000   \n",
       "50%          72.300000     4.220000    87.000000      18.000000     4.000000   \n",
       "75%          75.900000     7.565000    96.000000     362.500000    27.000000   \n",
       "max          89.000000    17.870000    99.000000  212183.000000  2500.000000   \n",
       "\n",
       "             Polio  total_expenditure   diphtheria     hiv_aids  \\\n",
       "count  2835.000000        2835.000000  2835.000000  2835.000000   \n",
       "mean     82.594869           5.946556    82.276580     1.573474   \n",
       "std      23.290050           2.412955    23.705259     4.414616   \n",
       "min       3.000000           0.370000     2.000000     0.100000   \n",
       "25%      78.000000           4.360000    78.000000     0.100000   \n",
       "50%      93.000000           5.938190    93.000000     0.100000   \n",
       "75%      97.000000           7.365000    97.000000     0.600000   \n",
       "max      99.000000          17.600000    99.000000    43.500000   \n",
       "\n",
       "                 GDP    Population  income_composition    Schooling  \\\n",
       "count    2835.000000  2.835000e+03         2835.000000  2835.000000   \n",
       "mean     7589.186567  3.730908e+07            0.628938    12.017380   \n",
       "std     13348.860638  1.384853e+08            0.207800     3.299978   \n",
       "min         1.681350  7.601600e+04            0.000000     0.000000   \n",
       "25%       566.041666  2.705250e+06            0.499000    10.200000   \n",
       "50%      2968.411860  8.807805e+06            0.672000    12.300000   \n",
       "75%      7483.158469  2.660099e+07            0.776000    14.200000   \n",
       "max    119172.741800  1.406848e+09            0.948000    20.700000   \n",
       "\n",
       "            Status     latitude    longitude  Crime_Index  Cigarettes_per_day  \\\n",
       "count  2835.000000  2528.000000  2528.000000  2835.000000         2723.000000   \n",
       "mean      0.181658    18.485207    14.827296    45.300768          895.168638   \n",
       "std       0.385630    24.358067    64.286706    12.550988          801.152281   \n",
       "min       0.000000   -40.900557  -175.198242    12.130000           25.300000   \n",
       "25%       0.000000     3.919305    -9.696645    39.960000          298.400000   \n",
       "50%       0.000000    17.125346    19.601164    45.298110          585.400000   \n",
       "75%       0.000000    39.399872    46.199616    50.390000         1419.100000   \n",
       "max       1.000000    64.963051   179.414413    83.760000         6330.900000   \n",
       "\n",
       "       Depression_Population  Cannabis_Recreational  Cannabis_Medical  \n",
       "count           2.835000e+03            2835.000000       2835.000000  \n",
       "mean            1.281029e+06               0.204233          0.255026  \n",
       "std             4.930769e+06               0.403211          0.435953  \n",
       "min             1.865000e+03               0.000000          0.000000  \n",
       "25%             7.528400e+04               0.000000          0.000000  \n",
       "50%             2.442500e+05               0.000000          0.000000  \n",
       "75%             7.124860e+05               0.000000          1.000000  \n",
       "max             5.551164e+07               1.000000          1.000000  "
      ]
     },
     "execution_count": 58,
     "metadata": {},
     "output_type": "execute_result"
    }
   ],
   "source": [
    "life_expectancy.describe()"
   ]
  },
  {
   "cell_type": "code",
   "execution_count": 59,
   "metadata": {},
   "outputs": [
    {
     "data": {
      "text/plain": [
       "112"
      ]
     },
     "execution_count": 59,
     "metadata": {},
     "output_type": "execute_result"
    }
   ],
   "source": [
    "life_expectancy.Cigarettes_per_day.isna().sum()"
   ]
  },
  {
   "cell_type": "code",
   "execution_count": 60,
   "metadata": {},
   "outputs": [],
   "source": [
    "life_expectancy.Cigarettes_per_day.replace(np.nan, 0, inplace = True)"
   ]
  },
  {
   "cell_type": "code",
   "execution_count": 61,
   "metadata": {},
   "outputs": [
    {
     "data": {
      "text/plain": [
       "0"
      ]
     },
     "execution_count": 61,
     "metadata": {},
     "output_type": "execute_result"
    }
   ],
   "source": [
    "life_expectancy.Cigarettes_per_day.isna().sum()"
   ]
  },
  {
   "cell_type": "code",
   "execution_count": 62,
   "metadata": {},
   "outputs": [
    {
     "data": {
      "text/plain": [
       "177"
      ]
     },
     "execution_count": 62,
     "metadata": {},
     "output_type": "execute_result"
    }
   ],
   "source": [
    "life_expectancy.country.nunique()"
   ]
  },
  {
   "cell_type": "markdown",
   "metadata": {},
   "source": [
    "<h1 style=\"text-align:center;\">ANALYSIS AND FINDINGS</h1>"
   ]
  },
  {
   "cell_type": "markdown",
   "metadata": {},
   "source": [
    "## Finding 1:\n",
    "* The legalization of recreational use cannabis will increase life expectancy if its crime index is below 70, but, when a country with a higher crime index (>70) allows the legalization of cannabis, life expectancy will decrease. "
   ]
  },
  {
   "cell_type": "code",
   "execution_count": 63,
   "metadata": {},
   "outputs": [
    {
     "data": {
      "text/html": [
       "<div>\n",
       "<style scoped>\n",
       "    .dataframe tbody tr th:only-of-type {\n",
       "        vertical-align: middle;\n",
       "    }\n",
       "\n",
       "    .dataframe tbody tr th {\n",
       "        vertical-align: top;\n",
       "    }\n",
       "\n",
       "    .dataframe thead th {\n",
       "        text-align: right;\n",
       "    }\n",
       "</style>\n",
       "<table border=\"1\" class=\"dataframe\">\n",
       "  <thead>\n",
       "    <tr style=\"text-align: right;\">\n",
       "      <th></th>\n",
       "      <th>life_expectancy</th>\n",
       "      <th>Crime_Index</th>\n",
       "    </tr>\n",
       "    <tr>\n",
       "      <th>Cannabis_Recreational</th>\n",
       "      <th></th>\n",
       "      <th></th>\n",
       "    </tr>\n",
       "  </thead>\n",
       "  <tbody>\n",
       "    <tr>\n",
       "      <th>0</th>\n",
       "      <td>67.776241</td>\n",
       "      <td>45.583369</td>\n",
       "    </tr>\n",
       "    <tr>\n",
       "      <th>1</th>\n",
       "      <td>76.327807</td>\n",
       "      <td>44.199653</td>\n",
       "    </tr>\n",
       "  </tbody>\n",
       "</table>\n",
       "</div>"
      ],
      "text/plain": [
       "                       life_expectancy  Crime_Index\n",
       "Cannabis_Recreational                              \n",
       "0                            67.776241    45.583369\n",
       "1                            76.327807    44.199653"
      ]
     },
     "execution_count": 63,
     "metadata": {},
     "output_type": "execute_result"
    }
   ],
   "source": [
    "life_expectancy.groupby('Cannabis_Recreational').agg({'life_expectancy':\"mean\", \"Crime_Index\":\"mean\"})"
   ]
  },
  {
   "cell_type": "code",
   "execution_count": 64,
   "metadata": {},
   "outputs": [],
   "source": [
    "#Since information from the dataset website cut the crime index level into 0,20,40,60,80,100.\n",
    "#We chose 50 and 70 to see the difference\n",
    "\n",
    "life_expectancy['crimeBin'] = pd.cut(life_expectancy['Crime_Index'], bins=[0,50,70,100])"
   ]
  },
  {
   "cell_type": "code",
   "execution_count": 65,
   "metadata": {},
   "outputs": [
    {
     "data": {
      "text/plain": [
       "(60.0, 80.0)"
      ]
     },
     "execution_count": 65,
     "metadata": {},
     "output_type": "execute_result"
    },
    {
     "data": {
      "image/png": "[encoded data removed]",
      "text/plain": [
       "<Figure size 432x288 with 1 Axes>"
      ]
     },
     "metadata": {
      "needs_background": "light"
     },
     "output_type": "display_data"
    }
   ],
   "source": [
    "g = sns.barplot(x = 'Cannabis_Recreational', y ='life_expectancy', hue = 'Cannabis_Medical', data = life_expectancy)\n",
    "g.set_ylim(60, 80)"
   ]
  },
  {
   "cell_type": "code",
   "execution_count": 66,
   "metadata": {
    "scrolled": true
   },
   "outputs": [
    {
     "data": {
      "text/plain": [
       "<seaborn.axisgrid.FacetGrid at 0x288371a1a90>"
      ]
     },
     "execution_count": 66,
     "metadata": {},
     "output_type": "execute_result"
    },
    {
     "data": {
      "image/png": "[encoded data removed]",
      "text/plain": [
       "<Figure size 1161.88x360 with 1 Axes>"
      ]
     },
     "metadata": {
      "needs_background": "light"
     },
     "output_type": "display_data"
    }
   ],
   "source": [
    "sns.factorplot(x='Cannabis_Recreational',y='life_expectancy', hue='crimeBin', data=life_expectancy,\\\n",
    "              aspect=3)"
   ]
  },
  {
   "cell_type": "markdown",
   "metadata": {},
   "source": [
    "## Insights for finding 1:\n",
    "* In the place where recreational legalization of Cannabis occurs, life expectancy increases only when the crime index level is lower than moderate on average. Once it hits 70, life expectancy decreases even though cannabis is recreational legal. In other words, if the country is comparatively safe, passing legalization of cannabis policy can help to improve citizens life expectancy. However, if a country has a high crime index, they probably need to prohibit cannabis for recreational use to maintain its life expectancy."
   ]
  },
  {
   "cell_type": "markdown",
   "metadata": {},
   "source": [
    "<h1 style=\"text-align:center;\">NORMALIZATION OF DATASET</h1>"
   ]
  },
  {
   "cell_type": "code",
   "execution_count": 67,
   "metadata": {},
   "outputs": [],
   "source": [
    "# drop the variables which are with NaN, string, related to Y\n",
    "X = life_expectancy.drop(['life_expectancy','latitude','crimeBin','Cigarettes_per_day','longitude','country', 'Year'], axis=1)\n",
    "\n",
    "# drop the variables which are already between 0-1\n",
    "scaler = MinMaxScaler()\n",
    "X = X.drop(['income_composition','Status','Cannabis_Recreational','Cannabis_Medical'], axis = 1)\n",
    "col_X = X.columns.to_list()\n",
    "X_scaled = scaler.fit_transform(X)\n",
    "X_scaled = pd.DataFrame(X_scaled)\n",
    "X_scaled.columns = col_X\n",
    "X_scaled.head()\n",
    "\n",
    "# add them back\n",
    "X_scaled['income_composition'] = life_expectancy.income_composition\n",
    "X_scaled['Status'] = life_expectancy.Status\n",
    "X_scaled['Cannabis_Recreational'] = life_expectancy.Cannabis_Recreational\n",
    "X_scaled['Cannabis_Medical'] = life_expectancy.Cannabis_Medical\n",
    "X_scaled.head()\n",
    "\n",
    "# drop the variables which have high correlation with life_expectancy\n",
    "X = X_scaled\n",
    "X.drop(['hepB','Measles ','deaths_U5','Polio','total_expenditure','diphtheria','hiv_aids','Schooling','income_composition'], axis = 1, inplace = True)\n",
    "\n",
    "life_expectancy['le_bins'] = pd.cut(life_expectancy.life_expectancy,bins = [0,40,60,80,120])\n",
    "life_expectancy['le_bins2'] = life_expectancy.life_expectancy.apply(lambda x : 0 if x <= 40 else (1 if 40 < x <=60 else (2 if 60 < x <=80 else 3)))\n",
    "Y = life_expectancy.life_expectancy"
   ]
  },
  {
   "cell_type": "markdown",
   "metadata": {},
   "source": [
    "## Finding 2: \n",
    "* With increasing life expectancy, we notice an increase in alcohol consumption. For countries with life expectancy above 58, citizens in countries where government spends more on healthcare were seen to be drinking more."
   ]
  },
  {
   "cell_type": "code",
   "execution_count": 68,
   "metadata": {},
   "outputs": [
    {
     "data": {
      "text/plain": [
       "<seaborn.axisgrid.FacetGrid at 0x288362d5310>"
      ]
     },
     "execution_count": 68,
     "metadata": {},
     "output_type": "execute_result"
    },
    {
     "data": {
      "image/png": "[encoded data removed]",
      "text/plain": [
       "<Figure size 762.375x360 with 1 Axes>"
      ]
     },
     "metadata": {
      "needs_background": "light"
     },
     "output_type": "display_data"
    }
   ],
   "source": [
    "life_alcohol = life_expectancy.groupby(['country'])['Cigarettes_per_day','Status','life_expectancy',\\\n",
    "                                                    'total_expenditure','Alcohol','Depression_Population'].\\\n",
    "mean().sort_values(by='life_expectancy', ascending = False)\n",
    "\n",
    "Exp_Mean = life_alcohol['total_expenditure'].mean()\n",
    "life_alcohol['Exp'] = life_alcohol['total_expenditure'].apply(lambda x: 1 if x>Exp_Mean else 0)\n",
    "life_alcohol['life_bin'] = pd.cut(life_alcohol.life_expectancy, bins = 6, precision=0)\n",
    "sns.catplot(x = 'life_bin' , y = 'Alcohol', hue = 'Exp', kind='bar', data = life_alcohol, aspect=2)"
   ]
  },
  {
   "cell_type": "markdown",
   "metadata": {},
   "source": [
    "## Insights for finding 2:\n",
    "* We suggest government spend more on healthcare expenditure to increase life expectancy. On the other hand, increasing alcohol consumption does not have a negative impact on life expectancy. That is, drinking alcohol might not be an essential factor to affect longevity of life."
   ]
  },
  {
   "cell_type": "markdown",
   "metadata": {},
   "source": [
    "## Finding 3: \n",
    "* A country with higher GDP per capita, which is a developed country, will have a higher life expectancy. A country with lower GDP per capita and a higher crime index, will have a lower life expectancy."
   ]
  },
  {
   "cell_type": "code",
   "execution_count": 69,
   "metadata": {},
   "outputs": [],
   "source": [
    "X_train, X_test, Y_train, Y_test = \\\n",
    "train_test_split(X,Y,test_size=0.3,random_state = 1)\n",
    "\n",
    "dt = tree.DecisionTreeRegressor(max_depth=2)\n",
    "dt.fit(X_train,Y_train)\n",
    "y_pred = dt.predict(X_test)"
   ]
  },
  {
   "cell_type": "code",
   "execution_count": 70,
   "metadata": {},
   "outputs": [],
   "source": [
    "X_train, X_test, Y_train, Y_test = train_test_split(X,Y,\n",
    "                            test_size=0.3,random_state=0)"
   ]
  },
  {
   "cell_type": "code",
   "execution_count": 71,
   "metadata": {},
   "outputs": [
    {
     "data": {
      "image/png": "[encoded data removed]",
      "text/plain": [
       "<IPython.core.display.Image object>"
      ]
     },
     "execution_count": 71,
     "metadata": {},
     "output_type": "execute_result"
    }
   ],
   "source": [
    "dt_feature_names = list(X.columns)\n",
    "dt_target_names = [str(s) for s in Y.unique()]\n",
    "tree.export_graphviz(dt, out_file='tree.dot', \n",
    "    feature_names=dt_feature_names, class_names=dt_target_names,\n",
    "    filled=True)  \n",
    "graph = pydotplus.graph_from_dot_file('tree.dot')\n",
    "Image(graph.create_png())"
   ]
  },
  {
   "cell_type": "code",
   "execution_count": 72,
   "metadata": {},
   "outputs": [],
   "source": [
    "from sklearn.linear_model import LinearRegression\n",
    "from sklearn.linear_model import ElasticNet\n",
    "from sklearn.tree import DecisionTreeRegressor\n",
    "from sklearn.ensemble import GradientBoostingRegressor\n",
    "from sklearn.neural_network import MLPRegressor\n",
    "from sklearn.svm import SVR\n",
    "\n",
    "regs = [LinearRegression(), ElasticNet(), DecisionTreeRegressor(), GradientBoostingRegressor(), MLPRegressor()]#, SVR()]\n",
    " "
   ]
  },
  {
   "cell_type": "code",
   "execution_count": 73,
   "metadata": {},
   "outputs": [
    {
     "name": "stdout",
     "output_type": "stream",
     "text": [
      "LinearRegression() with mad= -5.865644837343957\n",
      "ElasticNet() with mad= -7.096615423685719\n",
      "DecisionTreeRegressor() with mad= -2.0492768959435623\n",
      "GradientBoostingRegressor with mad= -3.0407365765578724\n",
      "MLPRegressor() with mad= -7.162421060077045\n",
      "***********************************************\n",
      "Best Regressor is... MLPRegressor()\n",
      "**********************\n",
      "With MAD Score -7.162421060077045\n"
     ]
    }
   ],
   "source": [
    "import sklearn\n",
    "minMAD = 10000000\n",
    "nfolds = 3\n",
    "bestREG = ''\n",
    "\n",
    "for reg in regs:\n",
    "    kf = KFold(n_splits=nfolds,random_state=0,shuffle=True)\n",
    "    mad = sklearn.model_selection.cross_val_score(reg,X,Y,\\\n",
    "             cv=kf,scoring='neg_mean_absolute_error').mean()\n",
    "    # need the lowest scoring for mad\n",
    "    print (str(reg)[:25] + ' with mad= ' + str(mad) )\n",
    "    if mad < minMAD:\n",
    "        minMAD = mad\n",
    "        bestREG = reg\n",
    "        \n",
    "print('***********************************************')\n",
    "print ('Best Regressor is... ' + str(bestREG)[:25] )\n",
    "print('**********************')\n",
    "print ('With MAD Score ' + str(minMAD))\n",
    "        "
   ]
  },
  {
   "cell_type": "markdown",
   "metadata": {},
   "source": [
    "## Insights for finding 3:\n",
    "* For the developed countries, the government might want to focus on increasing the GDP in order to get a better life expectancy.\n",
    "* For the developing countries, the government must act on reducing the crime index.\n"
   ]
  }
 ],
 "metadata": {
  "kernelspec": {
   "display_name": "Python 3",
   "language": "python",
   "name": "python3"
  },
  "language_info": {
   "codemirror_mode": {
    "name": "ipython",
    "version": 3
   },
   "file_extension": ".py",
   "mimetype": "text/x-python",
   "name": "python",
   "nbconvert_exporter": "python",
   "pygments_lexer": "ipython3",
   "version": "3.8.5"
  }
 },
 "nbformat": 4,
 "nbformat_minor": 5
}
